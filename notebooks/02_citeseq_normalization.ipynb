{
 "cells": [
  {
   "cell_type": "code",
   "execution_count": 1,
   "metadata": {},
   "outputs": [],
   "source": [
    "import pandas as pd \n",
    "import numpy as np \n",
    "import scanpy as sc \n",
    "import anndata as ann \n",
    "from mudata import MuData\n",
    "import muon as mu\n",
    "import mudata as md \n",
    "from sklearn.model_selection import train_test_split\n",
    "import torch"
   ]
  },
  {
   "cell_type": "code",
   "execution_count": 2,
   "metadata": {},
   "outputs": [
    {
     "name": "stderr",
     "output_type": "stream",
     "text": [
      "/h/hmaan/miniconda3/envs/citeseq_env/lib/python3.9/site-packages/mudata/_core/mudata.py:489: UserWarning: Cannot join columns with the same name because var_names are intersecting.\n",
      "  warnings.warn(\n"
     ]
    }
   ],
   "source": [
    "## Load the MuData object (This is a big file - should have at last 16GB of RAM to prevent memory issues)\n",
    "mdata = md.read(\"../data/multi.h5mu\")"
   ]
  },
  {
   "cell_type": "code",
   "execution_count": 3,
   "metadata": {},
   "outputs": [],
   "source": [
    "from torch.utils.data import DataLoader\n"
   ]
  },
  {
   "cell_type": "markdown",
   "metadata": {},
   "source": [
    "First create a normalization function for the input MuData object - this function will normalize both the RNA and ADT aspects of the data using best practices."
   ]
  },
  {
   "cell_type": "code",
   "execution_count": 4,
   "metadata": {},
   "outputs": [
    {
     "data": {
      "text/plain": [
       "(array([ 2.,  8., 26., 19., 20., 20., 12., 18., 16.,  9.,  5.,  6.,  8.,\n",
       "         5.,  5.,  7.,  4.,  4.,  4.,  3.,  4.,  3.,  3.,  0.,  2.,  1.,\n",
       "         1.,  1.,  0.,  0.,  1.,  0.,  3.,  0.,  1.,  2.,  2.,  0.,  1.,\n",
       "         0.,  1.,  0.,  0.,  0.,  0.,  0.,  0.,  0.,  0.,  1.]),\n",
       " array([5.14105957e+01, 1.24446922e+04, 2.48379738e+04, 3.72312554e+04,\n",
       "        4.96245370e+04, 6.20178186e+04, 7.44111002e+04, 8.68043818e+04,\n",
       "        9.91976634e+04, 1.11590945e+05, 1.23984227e+05, 1.36377508e+05,\n",
       "        1.48770790e+05, 1.61164071e+05, 1.73557353e+05, 1.85950635e+05,\n",
       "        1.98343916e+05, 2.10737198e+05, 2.23130480e+05, 2.35523761e+05,\n",
       "        2.47917043e+05, 2.60310324e+05, 2.72703606e+05, 2.85096888e+05,\n",
       "        2.97490169e+05, 3.09883451e+05, 3.22276732e+05, 3.34670014e+05,\n",
       "        3.47063296e+05, 3.59456577e+05, 3.71849859e+05, 3.84243140e+05,\n",
       "        3.96636422e+05, 4.09029704e+05, 4.21422985e+05, 4.33816267e+05,\n",
       "        4.46209548e+05, 4.58602830e+05, 4.70996112e+05, 4.83389393e+05,\n",
       "        4.95782675e+05, 5.08175956e+05, 5.20569238e+05, 5.32962520e+05,\n",
       "        5.45355801e+05, 5.57749083e+05, 5.70142365e+05, 5.82535646e+05,\n",
       "        5.94928928e+05, 6.07322209e+05, 6.19715491e+05]),\n",
       " <BarContainer object of 50 artists>)"
      ]
     },
     "execution_count": 4,
     "metadata": {},
     "output_type": "execute_result"
    },
    {
     "data": {
      "image/png": "[encoded data removed]",
      "text/plain": [
       "<Figure size 640x480 with 1 Axes>"
      ]
     },
     "metadata": {},
     "output_type": "display_data"
    }
   ],
   "source": [
    "# Plot the distribution of ADT counts per cell\n",
    "\n",
    "counts = mdata[\"ADT\"].X\n",
    "\n",
    "import matplotlib.pyplot as plt\n",
    "plt.hist(counts.sum(0), bins=50)"
   ]
  },
  {
   "cell_type": "markdown",
   "metadata": {},
   "source": [
    "This looks sort of Gaussian already (probably more Poisson), but maybe we have to worry about the ADT counts here. There are mode advanced normalization techniques we can use (like DSB here https://muon-tutorials.readthedocs.io/en/latest/cite-seq/1-CITE-seq-PBMC-5k.html), but I think this will be fine for now. Further, these cells are already filtered because they are all annotated. So I'm assuming that we can skip the filtering step as well for now.\n",
    "\n",
    "Sanity check - check RNA count distribution."
   ]
  },
  {
   "cell_type": "markdown",
   "metadata": {},
   "source": [
    "Looks like its not counts so like is normalized/lognormed already - check distribution for 1000 samples "
   ]
  },
  {
   "cell_type": "code",
   "execution_count": 5,
   "metadata": {},
   "outputs": [],
   "source": [
    "# Check the distribution of the counts - 1000 cells\n",
    "mdata_sub = mdata[\"SCT\"].X[0:1000]\n",
    "column_sums = mdata_sub.sum(axis=0)"
   ]
  },
  {
   "cell_type": "code",
   "execution_count": 6,
   "metadata": {},
   "outputs": [],
   "source": [
    "column_sums = np.array(column_sums).ravel()"
   ]
  },
  {
   "cell_type": "code",
   "execution_count": 7,
   "metadata": {},
   "outputs": [
    {
     "data": {
      "text/plain": [
       "(array([1.4594e+04, 2.5560e+03, 1.3090e+03, 6.9200e+02, 3.9400e+02,\n",
       "        2.5900e+02, 1.5500e+02, 1.3700e+02, 1.1100e+02, 6.9000e+01,\n",
       "        5.8000e+01, 4.8000e+01, 3.5000e+01, 3.5000e+01, 2.2000e+01,\n",
       "        2.4000e+01, 1.6000e+01, 9.0000e+00, 1.3000e+01, 6.0000e+00,\n",
       "        1.1000e+01, 6.0000e+00, 1.0000e+01, 7.0000e+00, 3.0000e+00,\n",
       "        5.0000e+00, 6.0000e+00, 6.0000e+00, 6.0000e+00, 5.0000e+00,\n",
       "        4.0000e+00, 3.0000e+00, 3.0000e+00, 3.0000e+00, 3.0000e+00,\n",
       "        2.0000e+00, 3.0000e+00, 1.0000e+00, 0.0000e+00, 1.0000e+00,\n",
       "        1.0000e+00, 5.0000e+00, 0.0000e+00, 2.0000e+00, 2.0000e+00,\n",
       "        6.0000e+00, 5.0000e+00, 4.0000e+00, 3.0000e+00, 4.0000e+00,\n",
       "        8.0000e+00, 2.0000e+00, 6.0000e+00, 3.0000e+00, 2.0000e+00,\n",
       "        3.0000e+00, 2.0000e+00, 3.0000e+00, 9.0000e+00, 4.0000e+00,\n",
       "        4.0000e+00, 2.0000e+00, 1.0000e+00, 3.0000e+00, 0.0000e+00,\n",
       "        3.0000e+00, 3.0000e+00, 5.0000e+00, 0.0000e+00, 2.0000e+00,\n",
       "        0.0000e+00, 0.0000e+00, 0.0000e+00, 0.0000e+00, 1.0000e+00,\n",
       "        0.0000e+00, 0.0000e+00, 0.0000e+00, 0.0000e+00, 0.0000e+00,\n",
       "        0.0000e+00, 0.0000e+00, 0.0000e+00, 0.0000e+00, 0.0000e+00,\n",
       "        0.0000e+00, 0.0000e+00, 0.0000e+00, 0.0000e+00, 0.0000e+00,\n",
       "        0.0000e+00, 0.0000e+00, 0.0000e+00, 0.0000e+00, 0.0000e+00,\n",
       "        0.0000e+00, 0.0000e+00, 0.0000e+00, 0.0000e+00, 1.0000e+00]),\n",
       " array([   0.        ,   56.13198977,  112.26397953,  168.3959693 ,\n",
       "         224.52795906,  280.65994883,  336.79193859,  392.92392836,\n",
       "         449.05591812,  505.18790789,  561.31989765,  617.45188742,\n",
       "         673.58387718,  729.71586695,  785.84785671,  841.97984648,\n",
       "         898.11183624,  954.24382601, 1010.37581577, 1066.50780554,\n",
       "        1122.6397953 , 1178.77178507, 1234.90377483, 1291.0357646 ,\n",
       "        1347.16775436, 1403.29974413, 1459.43173389, 1515.56372366,\n",
       "        1571.69571342, 1627.82770319, 1683.95969295, 1740.09168272,\n",
       "        1796.22367248, 1852.35566225, 1908.48765201, 1964.61964178,\n",
       "        2020.75163154, 2076.88362131, 2133.01561107, 2189.14760084,\n",
       "        2245.2795906 , 2301.41158037, 2357.54357013, 2413.6755599 ,\n",
       "        2469.80754966, 2525.93953943, 2582.07152919, 2638.20351896,\n",
       "        2694.33550872, 2750.46749849, 2806.59948825, 2862.73147802,\n",
       "        2918.86346778, 2974.99545755, 3031.12744731, 3087.25943708,\n",
       "        3143.39142684, 3199.52341661, 3255.65540637, 3311.78739614,\n",
       "        3367.9193859 , 3424.05137567, 3480.18336543, 3536.3153552 ,\n",
       "        3592.44734496, 3648.57933473, 3704.71132449, 3760.84331426,\n",
       "        3816.97530402, 3873.10729379, 3929.23928355, 3985.37127332,\n",
       "        4041.50326308, 4097.63525285, 4153.76724261, 4209.89923238,\n",
       "        4266.03122215, 4322.16321191, 4378.29520168, 4434.42719144,\n",
       "        4490.55918121, 4546.69117097, 4602.82316074, 4658.9551505 ,\n",
       "        4715.08714027, 4771.21913003, 4827.3511198 , 4883.48310956,\n",
       "        4939.61509933, 4995.74708909, 5051.87907886, 5108.01106862,\n",
       "        5164.14305839, 5220.27504815, 5276.40703792, 5332.53902768,\n",
       "        5388.67101745, 5444.80300721, 5500.93499698, 5557.06698674,\n",
       "        5613.19897651]),\n",
       " <BarContainer object of 100 artists>)"
      ]
     },
     "execution_count": 7,
     "metadata": {},
     "output_type": "execute_result"
    },
    {
     "data": {
      "image/png": "[encoded data removed]",
      "text/plain": [
       "<Figure size 640x480 with 1 Axes>"
      ]
     },
     "metadata": {},
     "output_type": "display_data"
    }
   ],
   "source": [
    "plt.hist(column_sums, bins=100, edgecolor='k')"
   ]
  },
  {
   "cell_type": "markdown",
   "metadata": {},
   "source": [
    "In this case, the RNA data is not normalized and looks very zero-inflated negative binomial. I think for now we can use normalize_total and log1p functions for this data."
   ]
  },
  {
   "cell_type": "code",
   "execution_count": 8,
   "metadata": {},
   "outputs": [],
   "source": [
    "def hvg_getter(data, n_hvgs = 2500, mudata = False, lognormed = False):\n",
    "    if mudata:\n",
    "        data = data[\"SCT\"]\n",
    "    else:\n",
    "        data = data\n",
    "        \n",
    "    data = data.copy() # Prevent overwrites\n",
    "    \n",
    "    if lognormed:\n",
    "        sc.pp.highly_variable_genes(data, n_top_genes = n_hvgs, flavor = \"seurat\")\n",
    "    else:\n",
    "        sc.pp.highly_variable_genes(data, n_top_genes = n_hvgs, flavor = \"seurat_v3\")\n",
    "        \n",
    "    # Convert the boolean to a list of 0 (False) and 1 (True)\n",
    "    data.var[\"highly_variable\"] = data.var.highly_variable.astype(int)\n",
    "        \n",
    "    return data.var.highly_variable"
   ]
  },
  {
   "cell_type": "code",
   "execution_count": 9,
   "metadata": {},
   "outputs": [
    {
     "name": "stderr",
     "output_type": "stream",
     "text": [
      "/h/hmaan/miniconda3/envs/citeseq_env/lib/python3.9/site-packages/scanpy/preprocessing/_highly_variable_genes.py:75: UserWarning: `flavor='seurat_v3'` expects raw count data, but non-integers were found.\n",
      "  warnings.warn(\n"
     ]
    }
   ],
   "source": [
    "# Test the hvg getter - this function needs scikit-misc to be installed\n",
    "test = hvg_getter(mdata, n_hvgs = 2500, mudata = True, lognormed = False)"
   ]
  },
  {
   "cell_type": "code",
   "execution_count": 10,
   "metadata": {},
   "outputs": [
    {
     "data": {
      "text/plain": [
       "AL627309.1    0\n",
       "AL669831.5    0\n",
       "LINC00115     0\n",
       "FAM41C        0\n",
       "NOC2L         0\n",
       "             ..\n",
       "AC016588.1    0\n",
       "FAM83E        0\n",
       "Z82244.2      0\n",
       "AP001468.1    0\n",
       "AP001469.2    0\n",
       "Name: highly_variable, Length: 20729, dtype: int64"
      ]
     },
     "execution_count": 10,
     "metadata": {},
     "output_type": "execute_result"
    }
   ],
   "source": [
    "test"
   ]
  },
  {
   "cell_type": "code",
   "execution_count": 11,
   "metadata": {},
   "outputs": [
    {
     "data": {
      "text/plain": [
       "(array([0, 1]), array([18229,  2500]))"
      ]
     },
     "execution_count": 11,
     "metadata": {},
     "output_type": "execute_result"
    }
   ],
   "source": [
    "# Sum the 1s and 0s \n",
    "np.unique(test, return_counts = True)\n",
    "\n"
   ]
  },
  {
   "cell_type": "code",
   "execution_count": 13,
   "metadata": {},
   "outputs": [
    {
     "name": "stderr",
     "output_type": "stream",
     "text": [
      "/h/hmaan/miniconda3/envs/citeseq_env/lib/python3.9/site-packages/scanpy/preprocessing/_highly_variable_genes.py:75: UserWarning: `flavor='seurat_v3'` expects raw count data, but non-integers were found.\n",
      "  warnings.warn(\n"
     ]
    },
    {
     "data": {
      "text/plain": [
       "AL627309.1    0\n",
       "AL669831.5    0\n",
       "LINC00115     0\n",
       "FAM41C        0\n",
       "NOC2L         0\n",
       "             ..\n",
       "AC016588.1    0\n",
       "FAM83E        0\n",
       "Z82244.2      0\n",
       "AP001468.1    0\n",
       "AP001469.2    0\n",
       "Name: highly_variable, Length: 20729, dtype: int64"
      ]
     },
     "execution_count": 13,
     "metadata": {},
     "output_type": "execute_result"
    }
   ],
   "source": [
    "# Test it with mudata = False (use the SCT Subset)\n",
    "hvg_getter(mdata[\"SCT\"], n_hvgs = 2500, mudata = False, lognormed = False)"
   ]
  },
  {
   "cell_type": "markdown",
   "metadata": {},
   "source": []
  }
 ],
 "metadata": {
  "kernelspec": {
   "display_name": "citeseq_env",
   "language": "python",
   "name": "python3"
  },
  "language_info": {
   "codemirror_mode": {
    "name": "ipython",
    "version": 3
   },
   "file_extension": ".py",
   "mimetype": "text/x-python",
   "name": "python",
   "nbconvert_exporter": "python",
   "pygments_lexer": "ipython3",
   "version": "3.9.19"
  }
 },
 "nbformat": 4,
 "nbformat_minor": 2
}
