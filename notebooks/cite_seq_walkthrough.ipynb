{
 "cells": [
  {
   "cell_type": "code",
   "execution_count": 1,
   "metadata": {},
   "outputs": [],
   "source": [
    "import numpy as np \n",
    "import pandas as pd \n",
    "import seaborn as sns \n",
    "import scanpy as sc\n",
    "import mudata as md \n",
    "from mudata import MuData\n",
    "import matplotlib.pyplot as plt\n",
    "\n",
    "import sys\n",
    "sys.path.append('..')\n",
    "from src import CITEData\n",
    "from utils import hvg_getter"
   ]
  },
  {
   "cell_type": "code",
   "execution_count": 3,
   "metadata": {},
   "outputs": [
    {
     "name": "stderr",
     "output_type": "stream",
     "text": [
      "/h/phil/anaconda3/envs/cite_seq/lib/python3.12/site-packages/mudata/_core/mudata.py:489: UserWarning: Cannot join columns with the same name because var_names are intersecting.\n",
      "  warnings.warn(\n"
     ]
    },
    {
     "name": "stdout",
     "output_type": "stream",
     "text": [
      "(161764, 228) (228, 845)\n"
     ]
    },
    {
     "name": "stderr",
     "output_type": "stream",
     "text": [
      "/h/phil/anaconda3/envs/cite_seq/lib/python3.12/site-packages/mudata/_core/mudata.py:489: UserWarning: Cannot join columns with the same name because var_names are intersecting.\n",
      "  warnings.warn(\n"
     ]
    },
    {
     "name": "stdout",
     "output_type": "stream",
     "text": [
      "(161764, 181) (181, 845)\n"
     ]
    }
   ],
   "source": [
    "mdata = md.read(\"/projects/isoclr/cite_seq_with_seq_embed_with_cell_embed.h5mu\")\n",
    "\n",
    "print(mdata['ADT'].X.shape, mdata['ADT'].var.shape)\n",
    "mdata2 = mdata['ADT'][:, mdata[\"ADT\"].var['gene_name'].notnull().values]\n",
    "blacklist_genes = [\n",
    "    'SIGLEC8', 'SELE', 'CDH17','THY1', \n",
    "    'CD177', 'KDR', 'CEACAM8', 'VTCN1', 'TEK'\n",
    "]\n",
    "mdata2 = mdata2[:, ~mdata2.var['gene_name'].isin(blacklist_genes)]\n",
    "\n",
    "mdata = MuData({\"ADT\": mdata2, \"SCT\": mdata['SCT']})\n",
    "print(mdata['ADT'].X.shape, mdata['ADT'].var.shape)"
   ]
  },
  {
   "cell_type": "code",
   "execution_count": 4,
   "metadata": {},
   "outputs": [
    {
     "data": {
      "text/plain": [
       "(7, 0)"
      ]
     },
     "execution_count": 4,
     "metadata": {},
     "output_type": "execute_result"
    }
   ],
   "source": [
    "mdata['ADT'].var['esm_0'].isnull().sum(),mdata['ADT'].var['orthrus_0'].isnull().sum()"
   ]
  },
  {
   "cell_type": "code",
   "execution_count": 22,
   "metadata": {},
   "outputs": [
    {
     "data": {
      "text/html": [
       "<div>\n",
       "<style scoped>\n",
       "    .dataframe tbody tr th:only-of-type {\n",
       "        vertical-align: middle;\n",
       "    }\n",
       "\n",
       "    .dataframe tbody tr th {\n",
       "        vertical-align: top;\n",
       "    }\n",
       "\n",
       "    .dataframe thead th {\n",
       "        text-align: right;\n",
       "    }\n",
       "</style>\n",
       "<table border=\"1\" class=\"dataframe\">\n",
       "  <thead>\n",
       "    <tr style=\"text-align: right;\">\n",
       "      <th></th>\n",
       "      <th>gene</th>\n",
       "      <th>transcript</th>\n",
       "      <th>esm_0</th>\n",
       "      <th>esm_1</th>\n",
       "      <th>esm_2</th>\n",
       "      <th>esm_3</th>\n",
       "      <th>esm_4</th>\n",
       "      <th>esm_5</th>\n",
       "      <th>esm_6</th>\n",
       "      <th>esm_7</th>\n",
       "      <th>...</th>\n",
       "      <th>esm_310</th>\n",
       "      <th>esm_311</th>\n",
       "      <th>esm_312</th>\n",
       "      <th>esm_313</th>\n",
       "      <th>esm_314</th>\n",
       "      <th>esm_315</th>\n",
       "      <th>esm_316</th>\n",
       "      <th>esm_317</th>\n",
       "      <th>esm_318</th>\n",
       "      <th>esm_319</th>\n",
       "    </tr>\n",
       "  </thead>\n",
       "  <tbody>\n",
       "    <tr>\n",
       "      <th>0</th>\n",
       "      <td>PTGDR2</td>\n",
       "      <td>ENST00000332539.4</td>\n",
       "      <td>0.194653</td>\n",
       "      <td>0.126780</td>\n",
       "      <td>0.182600</td>\n",
       "      <td>-0.029803</td>\n",
       "      <td>0.051965</td>\n",
       "      <td>0.026792</td>\n",
       "      <td>0.109676</td>\n",
       "      <td>-0.213097</td>\n",
       "      <td>...</td>\n",
       "      <td>0.128914</td>\n",
       "      <td>0.092471</td>\n",
       "      <td>0.115099</td>\n",
       "      <td>0.152762</td>\n",
       "      <td>0.111469</td>\n",
       "      <td>0.124649</td>\n",
       "      <td>0.054852</td>\n",
       "      <td>0.122809</td>\n",
       "      <td>-0.076046</td>\n",
       "      <td>-0.050964</td>\n",
       "    </tr>\n",
       "    <tr>\n",
       "      <th>1</th>\n",
       "      <td>MERTK</td>\n",
       "      <td>ENST00000295408.8</td>\n",
       "      <td>0.174655</td>\n",
       "      <td>0.162040</td>\n",
       "      <td>0.159292</td>\n",
       "      <td>-0.064161</td>\n",
       "      <td>0.037378</td>\n",
       "      <td>0.025869</td>\n",
       "      <td>0.214430</td>\n",
       "      <td>-0.168868</td>\n",
       "      <td>...</td>\n",
       "      <td>0.130357</td>\n",
       "      <td>0.049052</td>\n",
       "      <td>0.103070</td>\n",
       "      <td>0.135618</td>\n",
       "      <td>0.163095</td>\n",
       "      <td>-0.009734</td>\n",
       "      <td>0.029290</td>\n",
       "      <td>0.162163</td>\n",
       "      <td>-0.071493</td>\n",
       "      <td>0.131510</td>\n",
       "    </tr>\n",
       "    <tr>\n",
       "      <th>2</th>\n",
       "      <td>CD46</td>\n",
       "      <td>ENST00000358170.6</td>\n",
       "      <td>0.160673</td>\n",
       "      <td>0.180229</td>\n",
       "      <td>0.124241</td>\n",
       "      <td>-0.047515</td>\n",
       "      <td>0.121338</td>\n",
       "      <td>0.048503</td>\n",
       "      <td>0.204651</td>\n",
       "      <td>-0.230932</td>\n",
       "      <td>...</td>\n",
       "      <td>0.178895</td>\n",
       "      <td>0.039712</td>\n",
       "      <td>0.099157</td>\n",
       "      <td>-0.035398</td>\n",
       "      <td>0.227750</td>\n",
       "      <td>-0.011657</td>\n",
       "      <td>0.019348</td>\n",
       "      <td>0.188651</td>\n",
       "      <td>-0.027152</td>\n",
       "      <td>0.146914</td>\n",
       "    </tr>\n",
       "    <tr>\n",
       "      <th>3</th>\n",
       "      <td>ITGB3</td>\n",
       "      <td>ENST00000559488.5</td>\n",
       "      <td>0.033419</td>\n",
       "      <td>0.148301</td>\n",
       "      <td>0.171840</td>\n",
       "      <td>-0.122247</td>\n",
       "      <td>0.052923</td>\n",
       "      <td>0.050449</td>\n",
       "      <td>0.140216</td>\n",
       "      <td>-0.211933</td>\n",
       "      <td>...</td>\n",
       "      <td>0.101055</td>\n",
       "      <td>0.028358</td>\n",
       "      <td>0.171624</td>\n",
       "      <td>0.008692</td>\n",
       "      <td>0.149858</td>\n",
       "      <td>-0.025355</td>\n",
       "      <td>0.080045</td>\n",
       "      <td>0.208778</td>\n",
       "      <td>-0.035152</td>\n",
       "      <td>0.119216</td>\n",
       "    </tr>\n",
       "    <tr>\n",
       "      <th>4</th>\n",
       "      <td>TNFSF4</td>\n",
       "      <td>ENST00000281834.3</td>\n",
       "      <td>0.159453</td>\n",
       "      <td>0.045351</td>\n",
       "      <td>0.133093</td>\n",
       "      <td>-0.065311</td>\n",
       "      <td>-0.001200</td>\n",
       "      <td>0.090423</td>\n",
       "      <td>0.113904</td>\n",
       "      <td>-0.243310</td>\n",
       "      <td>...</td>\n",
       "      <td>0.225913</td>\n",
       "      <td>0.040134</td>\n",
       "      <td>0.083178</td>\n",
       "      <td>-0.037448</td>\n",
       "      <td>0.193334</td>\n",
       "      <td>-0.017796</td>\n",
       "      <td>0.067195</td>\n",
       "      <td>0.200707</td>\n",
       "      <td>0.061961</td>\n",
       "      <td>0.077091</td>\n",
       "    </tr>\n",
       "    <tr>\n",
       "      <th>...</th>\n",
       "      <td>...</td>\n",
       "      <td>...</td>\n",
       "      <td>...</td>\n",
       "      <td>...</td>\n",
       "      <td>...</td>\n",
       "      <td>...</td>\n",
       "      <td>...</td>\n",
       "      <td>...</td>\n",
       "      <td>...</td>\n",
       "      <td>...</td>\n",
       "      <td>...</td>\n",
       "      <td>...</td>\n",
       "      <td>...</td>\n",
       "      <td>...</td>\n",
       "      <td>...</td>\n",
       "      <td>...</td>\n",
       "      <td>...</td>\n",
       "      <td>...</td>\n",
       "      <td>...</td>\n",
       "      <td>...</td>\n",
       "      <td>...</td>\n",
       "    </tr>\n",
       "    <tr>\n",
       "      <th>181</th>\n",
       "      <td>THY1</td>\n",
       "      <td>ENST00000284240.9</td>\n",
       "      <td>0.108301</td>\n",
       "      <td>0.146954</td>\n",
       "      <td>0.171239</td>\n",
       "      <td>-0.001321</td>\n",
       "      <td>0.000676</td>\n",
       "      <td>-0.037172</td>\n",
       "      <td>0.190913</td>\n",
       "      <td>-0.116044</td>\n",
       "      <td>...</td>\n",
       "      <td>0.157813</td>\n",
       "      <td>0.002127</td>\n",
       "      <td>0.212422</td>\n",
       "      <td>0.027532</td>\n",
       "      <td>0.151119</td>\n",
       "      <td>0.039846</td>\n",
       "      <td>0.055663</td>\n",
       "      <td>0.189299</td>\n",
       "      <td>-0.071068</td>\n",
       "      <td>0.024650</td>\n",
       "    </tr>\n",
       "    <tr>\n",
       "      <th>182</th>\n",
       "      <td>SLC7A5</td>\n",
       "      <td>ENST00000261622.4</td>\n",
       "      <td>0.110616</td>\n",
       "      <td>0.120736</td>\n",
       "      <td>0.166708</td>\n",
       "      <td>-0.035123</td>\n",
       "      <td>0.000360</td>\n",
       "      <td>0.071963</td>\n",
       "      <td>0.124000</td>\n",
       "      <td>-0.362562</td>\n",
       "      <td>...</td>\n",
       "      <td>0.121050</td>\n",
       "      <td>0.019785</td>\n",
       "      <td>0.111488</td>\n",
       "      <td>0.042031</td>\n",
       "      <td>0.230152</td>\n",
       "      <td>-0.065543</td>\n",
       "      <td>0.002094</td>\n",
       "      <td>0.153272</td>\n",
       "      <td>-0.042976</td>\n",
       "      <td>0.102418</td>\n",
       "    </tr>\n",
       "    <tr>\n",
       "      <th>183</th>\n",
       "      <td>CD69</td>\n",
       "      <td>ENST00000228434.7</td>\n",
       "      <td>0.197017</td>\n",
       "      <td>0.137450</td>\n",
       "      <td>0.162856</td>\n",
       "      <td>0.019329</td>\n",
       "      <td>0.073427</td>\n",
       "      <td>0.057510</td>\n",
       "      <td>0.155821</td>\n",
       "      <td>-0.286048</td>\n",
       "      <td>...</td>\n",
       "      <td>0.216885</td>\n",
       "      <td>0.054472</td>\n",
       "      <td>0.062408</td>\n",
       "      <td>-0.029178</td>\n",
       "      <td>0.193458</td>\n",
       "      <td>0.010828</td>\n",
       "      <td>0.010842</td>\n",
       "      <td>0.188487</td>\n",
       "      <td>-0.011039</td>\n",
       "      <td>0.043911</td>\n",
       "    </tr>\n",
       "    <tr>\n",
       "      <th>184</th>\n",
       "      <td>CXCR6</td>\n",
       "      <td>ENST00000304552.4</td>\n",
       "      <td>0.182692</td>\n",
       "      <td>0.106208</td>\n",
       "      <td>0.124159</td>\n",
       "      <td>-0.011814</td>\n",
       "      <td>0.007098</td>\n",
       "      <td>0.064117</td>\n",
       "      <td>0.131658</td>\n",
       "      <td>-0.237451</td>\n",
       "      <td>...</td>\n",
       "      <td>0.229905</td>\n",
       "      <td>0.046099</td>\n",
       "      <td>0.081270</td>\n",
       "      <td>0.091075</td>\n",
       "      <td>0.220422</td>\n",
       "      <td>-0.002151</td>\n",
       "      <td>0.039243</td>\n",
       "      <td>0.161981</td>\n",
       "      <td>-0.020390</td>\n",
       "      <td>0.000847</td>\n",
       "    </tr>\n",
       "    <tr>\n",
       "      <th>185</th>\n",
       "      <td>PVR</td>\n",
       "      <td>ENST00000425690.7</td>\n",
       "      <td>0.116172</td>\n",
       "      <td>0.178937</td>\n",
       "      <td>0.189908</td>\n",
       "      <td>-0.103309</td>\n",
       "      <td>0.049461</td>\n",
       "      <td>0.000310</td>\n",
       "      <td>0.204055</td>\n",
       "      <td>-0.165687</td>\n",
       "      <td>...</td>\n",
       "      <td>0.114715</td>\n",
       "      <td>0.069304</td>\n",
       "      <td>0.158498</td>\n",
       "      <td>0.079845</td>\n",
       "      <td>0.161891</td>\n",
       "      <td>0.072528</td>\n",
       "      <td>0.053655</td>\n",
       "      <td>0.168270</td>\n",
       "      <td>-0.097275</td>\n",
       "      <td>0.047861</td>\n",
       "    </tr>\n",
       "  </tbody>\n",
       "</table>\n",
       "<p>186 rows × 322 columns</p>\n",
       "</div>"
      ],
      "text/plain": [
       "       gene         transcript     esm_0     esm_1     esm_2     esm_3  \\\n",
       "0    PTGDR2  ENST00000332539.4  0.194653  0.126780  0.182600 -0.029803   \n",
       "1     MERTK  ENST00000295408.8  0.174655  0.162040  0.159292 -0.064161   \n",
       "2      CD46  ENST00000358170.6  0.160673  0.180229  0.124241 -0.047515   \n",
       "3     ITGB3  ENST00000559488.5  0.033419  0.148301  0.171840 -0.122247   \n",
       "4    TNFSF4  ENST00000281834.3  0.159453  0.045351  0.133093 -0.065311   \n",
       "..      ...                ...       ...       ...       ...       ...   \n",
       "181    THY1  ENST00000284240.9  0.108301  0.146954  0.171239 -0.001321   \n",
       "182  SLC7A5  ENST00000261622.4  0.110616  0.120736  0.166708 -0.035123   \n",
       "183    CD69  ENST00000228434.7  0.197017  0.137450  0.162856  0.019329   \n",
       "184   CXCR6  ENST00000304552.4  0.182692  0.106208  0.124159 -0.011814   \n",
       "185     PVR  ENST00000425690.7  0.116172  0.178937  0.189908 -0.103309   \n",
       "\n",
       "        esm_4     esm_5     esm_6     esm_7  ...   esm_310   esm_311  \\\n",
       "0    0.051965  0.026792  0.109676 -0.213097  ...  0.128914  0.092471   \n",
       "1    0.037378  0.025869  0.214430 -0.168868  ...  0.130357  0.049052   \n",
       "2    0.121338  0.048503  0.204651 -0.230932  ...  0.178895  0.039712   \n",
       "3    0.052923  0.050449  0.140216 -0.211933  ...  0.101055  0.028358   \n",
       "4   -0.001200  0.090423  0.113904 -0.243310  ...  0.225913  0.040134   \n",
       "..        ...       ...       ...       ...  ...       ...       ...   \n",
       "181  0.000676 -0.037172  0.190913 -0.116044  ...  0.157813  0.002127   \n",
       "182  0.000360  0.071963  0.124000 -0.362562  ...  0.121050  0.019785   \n",
       "183  0.073427  0.057510  0.155821 -0.286048  ...  0.216885  0.054472   \n",
       "184  0.007098  0.064117  0.131658 -0.237451  ...  0.229905  0.046099   \n",
       "185  0.049461  0.000310  0.204055 -0.165687  ...  0.114715  0.069304   \n",
       "\n",
       "      esm_312   esm_313   esm_314   esm_315   esm_316   esm_317   esm_318  \\\n",
       "0    0.115099  0.152762  0.111469  0.124649  0.054852  0.122809 -0.076046   \n",
       "1    0.103070  0.135618  0.163095 -0.009734  0.029290  0.162163 -0.071493   \n",
       "2    0.099157 -0.035398  0.227750 -0.011657  0.019348  0.188651 -0.027152   \n",
       "3    0.171624  0.008692  0.149858 -0.025355  0.080045  0.208778 -0.035152   \n",
       "4    0.083178 -0.037448  0.193334 -0.017796  0.067195  0.200707  0.061961   \n",
       "..        ...       ...       ...       ...       ...       ...       ...   \n",
       "181  0.212422  0.027532  0.151119  0.039846  0.055663  0.189299 -0.071068   \n",
       "182  0.111488  0.042031  0.230152 -0.065543  0.002094  0.153272 -0.042976   \n",
       "183  0.062408 -0.029178  0.193458  0.010828  0.010842  0.188487 -0.011039   \n",
       "184  0.081270  0.091075  0.220422 -0.002151  0.039243  0.161981 -0.020390   \n",
       "185  0.158498  0.079845  0.161891  0.072528  0.053655  0.168270 -0.097275   \n",
       "\n",
       "      esm_319  \n",
       "0   -0.050964  \n",
       "1    0.131510  \n",
       "2    0.146914  \n",
       "3    0.119216  \n",
       "4    0.077091  \n",
       "..        ...  \n",
       "181  0.024650  \n",
       "182  0.102418  \n",
       "183  0.043911  \n",
       "184  0.000847  \n",
       "185  0.047861  \n",
       "\n",
       "[186 rows x 322 columns]"
      ]
     },
     "execution_count": 22,
     "metadata": {},
     "output_type": "execute_result"
    }
   ],
   "source": [
    "pd.read_csv('../data/esm_data.csv')"
   ]
  },
  {
   "cell_type": "code",
   "execution_count": 21,
   "metadata": {},
   "outputs": [
    {
     "data": {
      "text/plain": [
       "CD107a          NaN\n",
       "CD62P           NaN\n",
       "CD30            NaN\n",
       "CD31            NaN\n",
       "CD34       0.135042\n",
       "             ...   \n",
       "CD138-1         NaN\n",
       "CD164      0.120414\n",
       "CD138-2         NaN\n",
       "CD144           NaN\n",
       "CD11c           NaN\n",
       "Name: esm_0, Length: 182, dtype: float64"
      ]
     },
     "execution_count": 21,
     "metadata": {},
     "output_type": "execute_result"
    }
   ],
   "source": [
    "mdata['ADT'].var['esm_0']"
   ]
  },
  {
   "cell_type": "code",
   "execution_count": 3,
   "metadata": {},
   "outputs": [
    {
     "name": "stdout",
     "output_type": "stream",
     "text": [
      "(161764, 182)\n",
      "0\n",
      "(10000, 182)\n",
      "0\n"
     ]
    }
   ],
   "source": [
    "n_samples = 10000\n",
    "print(mdata['ADT'].X.shape)\n",
    "print(mdata['ADT'].var['gene_name'].isnull().sum())\n",
    "print(mdata[:n_samples]['ADT'].X.shape)\n",
    "print(mdata['ADT'][:n_samples].var['gene_name'].isnull().sum())"
   ]
  },
  {
   "cell_type": "code",
   "execution_count": 4,
   "metadata": {},
   "outputs": [
    {
     "data": {
      "text/plain": [
       "Index(['AL627309.1', 'AL669831.5', 'LINC00115', 'FAM41C', 'NOC2L', 'KLHL17',\n",
       "       'PLEKHN1', 'AL645608.8', 'HES4', 'ISG15',\n",
       "       ...\n",
       "       'AC092718.2', 'AC087742.1', 'TMEM98', 'ANGPT4', 'CFAP61', 'AC016588.1',\n",
       "       'FAM83E', 'Z82244.2', 'AP001468.1', 'AP001469.2'],\n",
       "      dtype='object', length=20729)"
      ]
     },
     "execution_count": 4,
     "metadata": {},
     "output_type": "execute_result"
    }
   ],
   "source": [
    "mdata['SCT'].var.index"
   ]
  },
  {
   "cell_type": "code",
   "execution_count": 5,
   "metadata": {},
   "outputs": [
    {
     "name": "stdout",
     "output_type": "stream",
     "text": [
      "Automatic pdb calling has been turned ON\n"
     ]
    }
   ],
   "source": [
    "%pdb"
   ]
  },
  {
   "cell_type": "code",
   "execution_count": 6,
   "metadata": {},
   "outputs": [
    {
     "name": "stdout",
     "output_type": "stream",
     "text": [
      "161764\n"
     ]
    },
    {
     "name": "stderr",
     "output_type": "stream",
     "text": [
      "/h/phil/anaconda3/envs/cite_seq/lib/python3.12/site-packages/mudata/_core/mudata.py:489: UserWarning: Cannot join columns with the same name because var_names are intersecting.\n",
      "  warnings.warn(\n"
     ]
    },
    {
     "name": "stdout",
     "output_type": "stream",
     "text": [
      "(10000, 182) (10000, 20729)\n"
     ]
    },
    {
     "name": "stderr",
     "output_type": "stream",
     "text": [
      "/fs01/home/phil/Documents/01_projects/isoclr_citeseq/notebooks/../src/data.py:70: FutureWarning: Series.__getitem__ treating keys as positions is deprecated. In a future version, integer keys will always be treated as labels (consistent with DataFrame behavior). To access a value by position, use `ser.iloc[pos]`\n",
      "  protein_index_to_gene_name = {i: adt_gene_names[i] for i in range(len(adt_gene_names))}\n"
     ]
    }
   ],
   "source": [
    "print(len(mdata))\n",
    "# sample 100 cells\n",
    "mdata_mini = MuData({\n",
    "    'ADT': mdata['ADT'][:n_samples],\n",
    "    \"SCT\": mdata['SCT'][:n_samples]\n",
    "})\n",
    "\n",
    "print(mdata_mini['ADT'].X.shape, mdata_mini['SCT'].X.shape)\n",
    "dataset = CITEData(mdata_mini)"
   ]
  },
  {
   "cell_type": "markdown",
   "metadata": {},
   "source": [
    "## HVG try"
   ]
  },
  {
   "cell_type": "code",
   "execution_count": 7,
   "metadata": {},
   "outputs": [
    {
     "name": "stderr",
     "output_type": "stream",
     "text": [
      "/h/phil/anaconda3/envs/cite_seq/lib/python3.12/site-packages/mudata/_core/mudata.py:489: UserWarning: Cannot join columns with the same name because var_names are intersecting.\n",
      "  warnings.warn(\n"
     ]
    },
    {
     "name": "stdout",
     "output_type": "stream",
     "text": [
      "161764\n"
     ]
    },
    {
     "name": "stderr",
     "output_type": "stream",
     "text": [
      "/h/phil/anaconda3/envs/cite_seq/lib/python3.12/site-packages/scanpy/preprocessing/_highly_variable_genes.py:75: UserWarning: `flavor='seurat_v3'` expects raw count data, but non-integers were found.\n",
      "  warnings.warn(\n"
     ]
    },
    {
     "name": "stdout",
     "output_type": "stream",
     "text": [
      "(10000, 182) (10000, 20729)\n"
     ]
    },
    {
     "name": "stderr",
     "output_type": "stream",
     "text": [
      "/fs01/home/phil/Documents/01_projects/isoclr_citeseq/notebooks/../src/data.py:70: FutureWarning: Series.__getitem__ treating keys as positions is deprecated. In a future version, integer keys will always be treated as labels (consistent with DataFrame behavior). To access a value by position, use `ser.iloc[pos]`\n",
      "  protein_index_to_gene_name = {i: adt_gene_names[i] for i in range(len(adt_gene_names))}\n"
     ]
    },
    {
     "name": "stdout",
     "output_type": "stream",
     "text": [
      "> \u001b[0;32m/fs01/home/phil/Documents/01_projects/isoclr_citeseq/src/data.py\u001b[0m(157)\u001b[0;36m__getitem__\u001b[0;34m()\u001b[0m\n",
      "\u001b[0;32m    155 \u001b[0;31m        \u001b[0minput_embedding\u001b[0m \u001b[0;34m=\u001b[0m \u001b[0mtorch\u001b[0m\u001b[0;34m.\u001b[0m\u001b[0mcat\u001b[0m\u001b[0;34m(\u001b[0m\u001b[0;34m[\u001b[0m\u001b[0minput_embedding\u001b[0m\u001b[0;34m,\u001b[0m \u001b[0mrna_value\u001b[0m\u001b[0;34m.\u001b[0m\u001b[0munsqueeze\u001b[0m\u001b[0;34m(\u001b[0m\u001b[0;36m0\u001b[0m\u001b[0;34m)\u001b[0m\u001b[0;34m]\u001b[0m\u001b[0;34m)\u001b[0m\u001b[0;34m\u001b[0m\u001b[0;34m\u001b[0m\u001b[0m\n",
      "\u001b[0m\u001b[0;32m    156 \u001b[0;31m        \u001b[0;32mimport\u001b[0m \u001b[0mipdb\u001b[0m\u001b[0;34m;\u001b[0m \u001b[0mipdb\u001b[0m\u001b[0;34m.\u001b[0m\u001b[0mset_trace\u001b[0m\u001b[0;34m(\u001b[0m\u001b[0;34m)\u001b[0m\u001b[0;34m\u001b[0m\u001b[0;34m\u001b[0m\u001b[0m\n",
      "\u001b[0m\u001b[0;32m--> 157 \u001b[0;31m        \u001b[0;32mreturn\u001b[0m \u001b[0minput_embedding\u001b[0m\u001b[0;34m,\u001b[0m \u001b[0mtarget\u001b[0m\u001b[0;34m\u001b[0m\u001b[0;34m\u001b[0m\u001b[0m\n",
      "\u001b[0m\n",
      "torch.Size([2501])\n",
      "torch.Size([])\n",
      "tensor(1.4852)\n"
     ]
    }
   ],
   "source": [
    "n_samples = 10000\n",
    "print(len(mdata))\n",
    "# sample 100 cells\n",
    "mdata_mini = MuData({\n",
    "    'ADT': mdata['ADT'][:n_samples],\n",
    "    \"SCT\": mdata['SCT'][:n_samples]\n",
    "})\n",
    "\n",
    "mask = hvg_getter(mdata_mini, n_hvgs=2500, mudata=True)\n",
    "\n",
    "print(mdata_mini['ADT'].X.shape, mdata_mini['SCT'].X.shape)\n",
    "dataset = CITEData(mdata_mini, hvg_values=mask, hvgs=True)\n",
    "X, y = dataset[0]\n",
    "print(X.shape, y.shape)"
   ]
  },
  {
   "cell_type": "code",
   "execution_count": null,
   "metadata": {},
   "outputs": [
    {
     "data": {
      "text/plain": [
       "Cadherin      CDH17\n",
       "CD90           THY1\n",
       "CD177         CD177\n",
       "CD309           KDR\n",
       "CD66b       CEACAM8\n",
       "B7-H4         VTCN1\n",
       "CD202b          TEK\n",
       "Name: gene_name, dtype: category\n",
       "Categories (178, object): ['ABCB1', 'ABCG2', 'ACKR2', 'ANPEP', ..., 'TREM1', 'VCAM1', 'VTCN1', 'XCR1']"
      ]
     },
     "metadata": {},
     "output_type": "display_data"
    }
   ],
   "source": [
    "mdata_mini['ADT'].var['gene_name'][~mdata_mini['ADT'].var['gene_name'].isin(mdata['SCT'].var.index)]"
   ]
  },
  {
   "cell_type": "markdown",
   "metadata": {},
   "source": [
    "## HVG And Orthrus"
   ]
  },
  {
   "cell_type": "code",
   "execution_count": 10,
   "metadata": {},
   "outputs": [
    {
     "name": "stdout",
     "output_type": "stream",
     "text": [
      "161764\n"
     ]
    },
    {
     "name": "stderr",
     "output_type": "stream",
     "text": [
      "/h/phil/anaconda3/envs/cite_seq/lib/python3.12/site-packages/mudata/_core/mudata.py:489: UserWarning: Cannot join columns with the same name because var_names are intersecting.\n",
      "  warnings.warn(\n"
     ]
    },
    {
     "name": "stdout",
     "output_type": "stream",
     "text": [
      "(10000, 182) (10000, 20729)\n"
     ]
    },
    {
     "name": "stderr",
     "output_type": "stream",
     "text": [
      "/h/phil/anaconda3/envs/cite_seq/lib/python3.12/site-packages/scanpy/preprocessing/_highly_variable_genes.py:75: UserWarning: `flavor='seurat_v3'` expects raw count data, but non-integers were found.\n",
      "  warnings.warn(\n",
      "/fs01/home/phil/Documents/01_projects/isoclr_citeseq/notebooks/../src/data.py:70: FutureWarning: Series.__getitem__ treating keys as positions is deprecated. In a future version, integer keys will always be treated as labels (consistent with DataFrame behavior). To access a value by position, use `ser.iloc[pos]`\n",
      "  protein_index_to_gene_name = {i: adt_gene_names[i] for i in range(len(adt_gene_names))}\n"
     ]
    },
    {
     "name": "stdout",
     "output_type": "stream",
     "text": [
      "> \u001b[0;32m/fs01/home/phil/Documents/01_projects/isoclr_citeseq/src/data.py\u001b[0m(157)\u001b[0;36m__getitem__\u001b[0;34m()\u001b[0m\n",
      "\u001b[0;32m    155 \u001b[0;31m        \u001b[0minput_embedding\u001b[0m \u001b[0;34m=\u001b[0m \u001b[0mtorch\u001b[0m\u001b[0;34m.\u001b[0m\u001b[0mcat\u001b[0m\u001b[0;34m(\u001b[0m\u001b[0;34m[\u001b[0m\u001b[0minput_embedding\u001b[0m\u001b[0;34m,\u001b[0m \u001b[0mrna_value\u001b[0m\u001b[0;34m.\u001b[0m\u001b[0munsqueeze\u001b[0m\u001b[0;34m(\u001b[0m\u001b[0;36m0\u001b[0m\u001b[0;34m)\u001b[0m\u001b[0;34m]\u001b[0m\u001b[0;34m)\u001b[0m\u001b[0;34m\u001b[0m\u001b[0;34m\u001b[0m\u001b[0m\n",
      "\u001b[0m\u001b[0;32m    156 \u001b[0;31m        \u001b[0;32mimport\u001b[0m \u001b[0mipdb\u001b[0m\u001b[0;34m;\u001b[0m \u001b[0mipdb\u001b[0m\u001b[0;34m.\u001b[0m\u001b[0mset_trace\u001b[0m\u001b[0;34m(\u001b[0m\u001b[0;34m)\u001b[0m\u001b[0;34m\u001b[0m\u001b[0;34m\u001b[0m\u001b[0m\n",
      "\u001b[0m\u001b[0;32m--> 157 \u001b[0;31m        \u001b[0;32mreturn\u001b[0m \u001b[0minput_embedding\u001b[0m\u001b[0;34m,\u001b[0m \u001b[0mtarget\u001b[0m\u001b[0;34m\u001b[0m\u001b[0;34m\u001b[0m\u001b[0m\n",
      "\u001b[0m\n",
      "tensor([ 0.0000,  0.0000,  0.0000,  ..., -0.0655, -0.0019,  0.0000])\n",
      "torch.Size([3013])\n",
      "tensor(1.4852)\n",
      "torch.Size([])\n"
     ]
    }
   ],
   "source": [
    "n_samples = 10000\n",
    "print(len(mdata))\n",
    "# sample 100 cells\n",
    "mdata_mini = MuData({\n",
    "    'ADT': mdata['ADT'][:n_samples],\n",
    "    \"SCT\": mdata['SCT'][:n_samples]\n",
    "})\n",
    "print(mdata_mini['ADT'].X.shape, mdata_mini['SCT'].X.shape)\n",
    "\n",
    "mask = hvg_getter(mdata_mini, n_hvgs=2500, mudata=True)\n",
    "\n",
    "dataset = CITEData(mdata_mini, orthrus_embeddings=True, hvg_values=mask, hvgs=True)\n",
    "X, y = dataset[0]\n",
    "print(X.shape, y.shape)"
   ]
  },
  {
   "cell_type": "markdown",
   "metadata": {},
   "source": [
    "## HGVS and ESM"
   ]
  },
  {
   "cell_type": "code",
   "execution_count": 12,
   "metadata": {},
   "outputs": [
    {
     "name": "stdout",
     "output_type": "stream",
     "text": [
      "161764\n"
     ]
    },
    {
     "name": "stderr",
     "output_type": "stream",
     "text": [
      "/h/phil/anaconda3/envs/cite_seq/lib/python3.12/site-packages/mudata/_core/mudata.py:489: UserWarning: Cannot join columns with the same name because var_names are intersecting.\n",
      "  warnings.warn(\n"
     ]
    },
    {
     "name": "stdout",
     "output_type": "stream",
     "text": [
      "(10000, 182) (10000, 20729)\n"
     ]
    },
    {
     "name": "stderr",
     "output_type": "stream",
     "text": [
      "/h/phil/anaconda3/envs/cite_seq/lib/python3.12/site-packages/scanpy/preprocessing/_highly_variable_genes.py:75: UserWarning: `flavor='seurat_v3'` expects raw count data, but non-integers were found.\n",
      "  warnings.warn(\n",
      "/fs01/home/phil/Documents/01_projects/isoclr_citeseq/notebooks/../src/data.py:70: FutureWarning: Series.__getitem__ treating keys as positions is deprecated. In a future version, integer keys will always be treated as labels (consistent with DataFrame behavior). To access a value by position, use `ser.iloc[pos]`\n",
      "  protein_index_to_gene_name = {i: adt_gene_names[i] for i in range(len(adt_gene_names))}\n"
     ]
    },
    {
     "name": "stdout",
     "output_type": "stream",
     "text": [
      "> \u001b[0;32m/fs01/home/phil/Documents/01_projects/isoclr_citeseq/src/data.py\u001b[0m(157)\u001b[0;36m__getitem__\u001b[0;34m()\u001b[0m\n",
      "\u001b[0;32m    155 \u001b[0;31m        \u001b[0minput_embedding\u001b[0m \u001b[0;34m=\u001b[0m \u001b[0mtorch\u001b[0m\u001b[0;34m.\u001b[0m\u001b[0mcat\u001b[0m\u001b[0;34m(\u001b[0m\u001b[0;34m[\u001b[0m\u001b[0minput_embedding\u001b[0m\u001b[0;34m,\u001b[0m \u001b[0mrna_value\u001b[0m\u001b[0;34m.\u001b[0m\u001b[0munsqueeze\u001b[0m\u001b[0;34m(\u001b[0m\u001b[0;36m0\u001b[0m\u001b[0;34m)\u001b[0m\u001b[0;34m]\u001b[0m\u001b[0;34m)\u001b[0m\u001b[0;34m\u001b[0m\u001b[0;34m\u001b[0m\u001b[0m\n",
      "\u001b[0m\u001b[0;32m    156 \u001b[0;31m        \u001b[0;32mimport\u001b[0m \u001b[0mipdb\u001b[0m\u001b[0;34m;\u001b[0m \u001b[0mipdb\u001b[0m\u001b[0;34m.\u001b[0m\u001b[0mset_trace\u001b[0m\u001b[0;34m(\u001b[0m\u001b[0;34m)\u001b[0m\u001b[0;34m\u001b[0m\u001b[0;34m\u001b[0m\u001b[0m\n",
      "\u001b[0m\u001b[0;32m--> 157 \u001b[0;31m        \u001b[0;32mreturn\u001b[0m \u001b[0minput_embedding\u001b[0m\u001b[0;34m,\u001b[0m \u001b[0mtarget\u001b[0m\u001b[0;34m\u001b[0m\u001b[0;34m\u001b[0m\u001b[0m\n",
      "\u001b[0m\n",
      "torch.Size([2821])\n"
     ]
    }
   ],
   "source": [
    "n_samples = 10000\n",
    "print(len(mdata))\n",
    "# sample 100 cells\n",
    "mdata_mini = MuData({\n",
    "    'ADT': mdata['ADT'][:n_samples],\n",
    "    \"SCT\": mdata['SCT'][:n_samples]\n",
    "})\n",
    "print(mdata_mini['ADT'].X.shape, mdata_mini['SCT'].X.shape)\n",
    "\n",
    "mask = hvg_getter(mdata_mini, n_hvgs=2500, mudata=True)\n",
    "\n",
    "dataset = CITEData(mdata_mini, esm_embeddings=True, hvg_values=mask, hvgs=True)\n",
    "X, y = dataset[5]\n",
    "print(X.shape, y.shape)"
   ]
  },
  {
   "cell_type": "code",
   "execution_count": 13,
   "metadata": {},
   "outputs": [
    {
     "name": "stdout",
     "output_type": "stream",
     "text": [
      "161764\n"
     ]
    },
    {
     "name": "stderr",
     "output_type": "stream",
     "text": [
      "/h/phil/anaconda3/envs/cite_seq/lib/python3.12/site-packages/mudata/_core/mudata.py:489: UserWarning: Cannot join columns with the same name because var_names are intersecting.\n",
      "  warnings.warn(\n"
     ]
    },
    {
     "name": "stdout",
     "output_type": "stream",
     "text": [
      "(10000, 182) (10000, 20729)\n"
     ]
    },
    {
     "name": "stderr",
     "output_type": "stream",
     "text": [
      "/h/phil/anaconda3/envs/cite_seq/lib/python3.12/site-packages/scanpy/preprocessing/_highly_variable_genes.py:75: UserWarning: `flavor='seurat_v3'` expects raw count data, but non-integers were found.\n",
      "  warnings.warn(\n",
      "/fs01/home/phil/Documents/01_projects/isoclr_citeseq/notebooks/../src/data.py:70: FutureWarning: Series.__getitem__ treating keys as positions is deprecated. In a future version, integer keys will always be treated as labels (consistent with DataFrame behavior). To access a value by position, use `ser.iloc[pos]`\n",
      "  protein_index_to_gene_name = {i: adt_gene_names[i] for i in range(len(adt_gene_names))}\n"
     ]
    },
    {
     "name": "stdout",
     "output_type": "stream",
     "text": [
      "> \u001b[0;32m/fs01/home/phil/Documents/01_projects/isoclr_citeseq/src/data.py\u001b[0m(157)\u001b[0;36m__getitem__\u001b[0;34m()\u001b[0m\n",
      "\u001b[0;32m    155 \u001b[0;31m        \u001b[0minput_embedding\u001b[0m \u001b[0;34m=\u001b[0m \u001b[0mtorch\u001b[0m\u001b[0;34m.\u001b[0m\u001b[0mcat\u001b[0m\u001b[0;34m(\u001b[0m\u001b[0;34m[\u001b[0m\u001b[0minput_embedding\u001b[0m\u001b[0;34m,\u001b[0m \u001b[0mrna_value\u001b[0m\u001b[0;34m.\u001b[0m\u001b[0munsqueeze\u001b[0m\u001b[0;34m(\u001b[0m\u001b[0;36m0\u001b[0m\u001b[0;34m)\u001b[0m\u001b[0;34m]\u001b[0m\u001b[0;34m)\u001b[0m\u001b[0;34m\u001b[0m\u001b[0;34m\u001b[0m\u001b[0m\n",
      "\u001b[0m\u001b[0;32m    156 \u001b[0;31m        \u001b[0;32mimport\u001b[0m \u001b[0mipdb\u001b[0m\u001b[0;34m;\u001b[0m \u001b[0mipdb\u001b[0m\u001b[0;34m.\u001b[0m\u001b[0mset_trace\u001b[0m\u001b[0;34m(\u001b[0m\u001b[0;34m)\u001b[0m\u001b[0;34m\u001b[0m\u001b[0;34m\u001b[0m\u001b[0m\n",
      "\u001b[0m\u001b[0;32m--> 157 \u001b[0;31m        \u001b[0;32mreturn\u001b[0m \u001b[0minput_embedding\u001b[0m\u001b[0;34m,\u001b[0m \u001b[0mtarget\u001b[0m\u001b[0;34m\u001b[0m\u001b[0;34m\u001b[0m\u001b[0m\n",
      "\u001b[0m\n",
      "torch.Size([3333])\n"
     ]
    }
   ],
   "source": [
    "n_samples = 10000\n",
    "print(len(mdata))\n",
    "# sample 100 cells\n",
    "mdata_mini = MuData({\n",
    "    'ADT': mdata['ADT'][:n_samples],\n",
    "    \"SCT\": mdata['SCT'][:n_samples]\n",
    "})\n",
    "print(mdata_mini['ADT'].X.shape, mdata_mini['SCT'].X.shape)\n",
    "\n",
    "mask = hvg_getter(mdata_mini, n_hvgs=2500, mudata=True)\n",
    "\n",
    "dataset = CITEData(mdata_mini, esm_embeddings=True, hvg_values=mask, hvgs=True, orthrus_embeddings=True)\n",
    "X, y = dataset[5]\n",
    "print(X.shape, y.shape)"
   ]
  },
  {
   "cell_type": "code",
   "execution_count": 37,
   "metadata": {},
   "outputs": [
    {
     "data": {
      "text/plain": [
       "<src.data.CITEData at 0x7f1a8774e1b0>"
      ]
     },
     "execution_count": 37,
     "metadata": {},
     "output_type": "execute_result"
    }
   ],
   "source": []
  }
 ],
 "metadata": {
  "kernelspec": {
   "display_name": "cite_seq",
   "language": "python",
   "name": "python3"
  },
  "language_info": {
   "codemirror_mode": {
    "name": "ipython",
    "version": 3
   },
   "file_extension": ".py",
   "mimetype": "text/x-python",
   "name": "python",
   "nbconvert_exporter": "python",
   "pygments_lexer": "ipython3",
   "version": "3.12.4"
  }
 },
 "nbformat": 4,
 "nbformat_minor": 2
}
